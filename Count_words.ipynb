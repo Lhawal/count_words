{
 "cells": [
  {
   "cell_type": "code",
   "execution_count": 10,
   "id": "3e8d83ae-9e16-4431-9035-45b9115ec205",
   "metadata": {},
   "outputs": [],
   "source": [
    "def freq(string):\n",
    "    words= []\n",
    "    words= string.split()\n",
    "    Dict= {}\n",
    "\n",
    "    for key in words:\n",
    "        Dict[key]= words.count(key)\n",
    "    print(Dict)\n",
    "    "
   ]
  },
  {
   "cell_type": "code",
   "execution_count": 11,
   "id": "a7ac95fd-b972-4049-8a4d-2f95743bf5d3",
   "metadata": {},
   "outputs": [
    {
     "name": "stdout",
     "output_type": "stream",
     "text": [
      "{'the': 1, 'world': 2, 'is': 2, 'a': 3, 'cruel': 2, 'place,': 1, 'it': 1, 'made': 1, 'of': 1, 'that': 1, 'can': 1, 'be': 1, 'place': 1, 'for': 1, 'people': 1}\n"
     ]
    }
   ],
   "source": [
    "freq('the world is a cruel place, it is made of a world that can be a place for cruel people')"
   ]
  },
  {
   "cell_type": "code",
   "execution_count": null,
   "id": "0959a28f-6dc6-4ccf-80a1-51c93018a45e",
   "metadata": {},
   "outputs": [],
   "source": []
  }
 ],
 "metadata": {
  "kernelspec": {
   "display_name": "Python 3 (ipykernel)",
   "language": "python",
   "name": "python3"
  },
  "language_info": {
   "codemirror_mode": {
    "name": "ipython",
    "version": 3
   },
   "file_extension": ".py",
   "mimetype": "text/x-python",
   "name": "python",
   "nbconvert_exporter": "python",
   "pygments_lexer": "ipython3",
   "version": "3.11.9"
  }
 },
 "nbformat": 4,
 "nbformat_minor": 5
}
